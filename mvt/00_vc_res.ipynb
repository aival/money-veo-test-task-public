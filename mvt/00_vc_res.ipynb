{
 "cells": [
  {
   "cell_type": "code",
   "execution_count": 23,
   "metadata": {
    "collapsed": true
   },
   "outputs": [],
   "source": [
    "%matplotlib inline\n",
    "import numpy as np\n",
    "import pandas as pd\n",
    "import matplotlib.pyplot as plt\n",
    "import seaborn as sns\n",
    "from routines.models import get_pipe_base\n",
    "from sklearn.model_selection import train_test_split, GridSearchCV, RandomizedSearchCV, cross_validate\n",
    "from imblearn.pipeline import Pipeline\n",
    "from sklearn.pipeline import FeatureUnion\n",
    "from sklearn.linear_model import LogisticRegression\n",
    "from sklearn.svm import LinearSVC\n",
    "from sklearn.decomposition import PCA, KernelPCA\n",
    "from sklearn.manifold import Isomap\n",
    "from sklearn.kernel_approximation import RBFSampler, Nystroem\n",
    "from imblearn.over_sampling import SMOTE\n",
    "from imblearn.under_sampling import TomekLinks\n",
    "from routines.models import get_balanced_sample_weights, ks_test_d, ks_test_p\n",
    "from sklearn.metrics import make_scorer, matthews_corrcoef, fbeta_score, classification_report, roc_auc_score, f1_score, log_loss\n",
    "from time import time\n",
    "from time import localtime\n",
    "from routines.transformers import SparseTransformer\n",
    "from sklearn.cluster import MiniBatchKMeans, KMeans\n",
    "from scipy.stats import randint as sp_randint\n",
    "from scipy.stats import uniform as sp_uniform\n",
    "from scipy.stats import norm as sp_norm\n",
    "from routines.evals_n_plots import get_cv_res_df, plot_cv_res_df, plot_permut_hist, plot_learning_curve, \\\n",
    "    plot_multi_metric_cv, plot_confusion_matrix, plot_roc_curve, plot_prc_curve\n",
    "from sklearn.model_selection import permutation_test_score, learning_curve\n",
    "from sklearn.tree import DecisionTreeClassifier\n",
    "from sklearn.ensemble import RandomForestClassifier, GradientBoostingClassifier, AdaBoostClassifier, VotingClassifier\n",
    "from scipy.stats import ks_2samp\n",
    "import pickle\n",
    "from sklearn.calibration import CalibratedClassifierCV, calibration_curve"
   ]
  },
  {
   "cell_type": "markdown",
   "metadata": {},
   "source": [
    "### Set params"
   ]
  },
  {
   "cell_type": "code",
   "execution_count": 2,
   "metadata": {},
   "outputs": [],
   "source": [
    "random_state: int = 42\n",
    "sample_test_size: float = 0.20\n",
    "max_jobs: int = 3\n",
    "pre_dispatch = 3\n",
    "outer_cv: int = 5\n",
    "inner_cv: int = 3"
   ]
  },
  {
   "cell_type": "markdown",
   "metadata": {},
   "source": [
    "### Load training set"
   ]
  },
  {
   "cell_type": "code",
   "execution_count": 3,
   "metadata": {},
   "outputs": [
    {
     "name": "stdout",
     "output_type": "stream",
     "text": [
      "X.shape: (65974, 221)\ty.shape: (65974,)\n"
     ]
    }
   ],
   "source": [
    "df = pd.read_csv('src/Train_Sample.csv', sep=';', index_col=0)\n",
    "y = df['Status']\n",
    "X = df.drop(labels='Status', axis=1, inplace=False)\n",
    "del df\n",
    "print('X.shape: {0}\\ty.shape: {1}'.format(X.shape, y.shape))"
   ]
  },
  {
   "cell_type": "markdown",
   "metadata": {},
   "source": [
    "### Split training set into train-test"
   ]
  },
  {
   "cell_type": "code",
   "execution_count": 4,
   "metadata": {},
   "outputs": [
    {
     "name": "stdout",
     "output_type": "stream",
     "text": [
      "X_train.shape: (52779, 221)\ty_train.shape: (52779,)\nX_test.shape: (13195, 221)\ty_test.shape: (13195,)\n\n"
     ]
    }
   ],
   "source": [
    "X_train, X_test, y_train, y_test = train_test_split(X, y,\n",
    "                                                    test_size=sample_test_size,\n",
    "                                                    random_state=random_state,\n",
    "                                                    stratify=y)\n",
    "print('X_train.shape: {0}\\ty_train.shape: {1}\\n'\n",
    "      'X_test.shape: {2}\\ty_test.shape: {3}\\n'.format(X_train.shape, y_train.shape, X_test.shape, y_test.shape))"
   ]
  },
  {
   "cell_type": "markdown",
   "metadata": {},
   "source": [
    "### Load base pipe (extract base features)"
   ]
  },
  {
   "cell_type": "code",
   "execution_count": 5,
   "metadata": {},
   "outputs": [],
   "source": [
    "corr_threshold = 0.90\n",
    "var_threshold = (0.98 * (1.00 - 0.98))\n",
    "\n",
    "pipe_base = get_pipe_base(random_state=random_state, corr_threshold=corr_threshold, var_threshold=var_threshold)\n",
    "# pipe_base"
   ]
  },
  {
   "cell_type": "markdown",
   "metadata": {},
   "source": [
    "### Fit Voting Classifier"
   ]
  },
  {
   "cell_type": "code",
   "execution_count": 8,
   "metadata": {},
   "outputs": [],
   "source": [
    "pipe_vc = Pipeline(steps=[('pipe_base', pipe_base),\n",
    "                          ('smote', SMOTE(ratio='auto',\n",
    "                                          kind='regular',\n",
    "                                          n_jobs=max_jobs,\n",
    "                                          random_state=random_state)),\n",
    "\n",
    "                          ('VC', VotingClassifier(estimators=[('LR',\n",
    "                                                               Pipeline(steps=[('pca',\n",
    "                                                                                PCA(n_components='mle',\n",
    "                                                                                    # n_components=212,\n",
    "                                                                                    svd_solver='full',\n",
    "                                                                                    random_state=random_state)),\n",
    "                                                                               ('logistic',\n",
    "                                                                                LogisticRegression(\n",
    "                                                                                    random_state=random_state,\n",
    "                                                                                    n_jobs=max_jobs,\n",
    "                                                                                    class_weight='balanced',\n",
    "                                                                                    penalty='l2',\n",
    "                                                                                    solver='lbfgs',\n",
    "                                                                                    # solver='sag',  #'saga'\n",
    "                                                                                    max_iter=1000,\n",
    "                                                                                    C=27.0, )),\n",
    "                                                                               ])\n",
    "                                                               ),\n",
    "                                                              ('RF_calibrated', CalibratedClassifierCV(\n",
    "                                                                  base_estimator=RandomForestClassifier(\n",
    "                                                                      random_state=random_state,\n",
    "                                                                      n_jobs=max_jobs,\n",
    "                                                                      criterion='entropy',\n",
    "                                                                      class_weight='balanced_subsample',\n",
    "                                                                      bootstrap=True,\n",
    "                                                                      oob_score=False,\n",
    "                                                                      n_estimators=300,\n",
    "                                                                      max_features='sqrt',\n",
    "                                                                      max_depth=None,\n",
    "                                                                      min_samples_leaf=1,\n",
    "                                                                      min_impurity_decrease=0.0095, ),\n",
    "                                                                  cv=5, method='isotonic')),\n",
    "                                                              ('GB_calibrated', CalibratedClassifierCV(\n",
    "                                                                  base_estimator=GradientBoostingClassifier(\n",
    "                                                                      random_state=random_state,\n",
    "                                                                      loss='deviance',\n",
    "                                                                      criterion='friedman_mse',\n",
    "                                                                      subsample=0.50,\n",
    "                                                                      presort=True,\n",
    "                                                                      n_estimators=300,\n",
    "                                                                      learning_rate=0.1,\n",
    "                                                                      max_features='sqrt',\n",
    "                                                                      max_depth=4,\n",
    "                                                                      min_samples_leaf=0.155,\n",
    "                                                                      min_impurity_decrease=0.00, ),\n",
    "                                                                  cv=8, method='isotonic')),\n",
    "                                                              ],\n",
    "                                                  voting='soft',\n",
    "                                                  weights=None,\n",
    "                                                  n_jobs=max_jobs,\n",
    "                                                  flatten_transform=None, )),\n",
    "                          ],\n",
    "                   # memory='pipe_cache/'\n",
    "                   )\n"
   ]
  },
  {
   "cell_type": "code",
   "execution_count": 9,
   "metadata": {},
   "outputs": [
    {
     "name": "stdout",
     "output_type": "stream",
     "text": [
      "Fit Time:  197.16272377967834\n"
     ]
    }
   ],
   "source": [
    "t0 = time()\n",
    "pipe_vc.fit(X_train, y_train)\n",
    "print('Fit Time: ', (time() - t0))"
   ]
  },
  {
   "cell_type": "code",
   "execution_count": 10,
   "metadata": {},
   "outputs": [
    {
     "name": "stdout",
     "output_type": "stream",
     "text": [
      "Predict Time:  25.685248374938965\n"
     ]
    }
   ],
   "source": [
    "t0 = time()\n",
    "pipe_vc_pred_train = pipe_vc.predict(X_train)\n",
    "pipe_vc_pred_test = pipe_vc.predict(X_test)\n",
    "pipe_vc_proba_train = pipe_vc.predict_proba(X_train)\n",
    "pipe_vc_proba_test = pipe_vc.predict_proba(X_test)\n",
    "print('Predict Time: ', (time() - t0))"
   ]
  },
  {
   "cell_type": "code",
   "execution_count": 33,
   "metadata": {},
   "outputs": [
    {
     "name": "stdout",
     "output_type": "stream",
     "text": [
      "#TRAIN VC#\nAUC: 0.8525058080837687\nF1: 0.36579831170009985\nMCC: 0.32072848774487434\nKS: D=0.06659845771992645, p-value=3.0505415287114118e-102\nLog Loss: 0.3095794370492794\n\n#TEST VC#\nAUC: 0.8459309531666601\nF1: 0.3608065086664308\nMCC: 0.3163768503080902\nKS: D=0.07207275483137554, p-value=2.78583904998641e-30\nLog Loss: 0.31921899992189595\n"
     ]
    }
   ],
   "source": [
    "print('#TRAIN VC#\\nAUC: {}\\nF1: {}\\nMCC: {}\\nKS: D={}, p-value={}\\nLog Loss: {}'\n",
    "      ''.format(roc_auc_score(y_train, pipe_vc_proba_train[:, 1]),\n",
    "                f1_score(y_true=y_train, y_pred=pipe_vc_pred_train,\n",
    "                         pos_label=1, average='binary'),\n",
    "                matthews_corrcoef(y_train, pipe_vc_pred_train),\n",
    "                ks_2samp(y_train, pipe_vc_pred_train)[0],\n",
    "                ks_2samp(y_train, pipe_vc_pred_train)[1],\n",
    "                log_loss(y_train, pipe_vc_proba_train[:, 1]), ))\n",
    "\n",
    "print('\\n#TEST VC#\\nAUC: {}\\nF1: {}\\nMCC: {}\\nKS: D={}, p-value={}\\nLog Loss: {}'\n",
    "      ''.format(roc_auc_score(y_test, pipe_vc_proba_test[:, 1]),\n",
    "                f1_score(y_true=y_test, y_pred=pipe_vc_pred_test,\n",
    "                         pos_label=1, average='binary'),\n",
    "                matthews_corrcoef(y_test, pipe_vc_pred_test),\n",
    "                ks_2samp(y_test, pipe_vc_pred_test)[0],\n",
    "                ks_2samp(y_test, pipe_vc_pred_test)[1],\n",
    "                log_loss(y_test, pipe_vc_proba_test[:, 1]), ))"
   ]
  },
  {
   "cell_type": "code",
   "execution_count": 13,
   "metadata": {},
   "outputs": [
    {
     "name": "stdout",
     "output_type": "stream",
     "text": [
      "             precision    recall  f1-score   support\n\n          0       0.96      0.89      0.92     12257\n          1       0.27      0.54      0.36       938\n\navg / total       0.91      0.86      0.88     13195\n\n"
     ]
    }
   ],
   "source": [
    "print(classification_report(y_test, pipe_vc_pred_test))"
   ]
  },
  {
   "cell_type": "code",
   "execution_count": 14,
   "metadata": {},
   "outputs": [
    {
     "data": {
      "text/plain": [
       "<module 'matplotlib.pyplot' from 'D:\\\\moneyveo\\\\mvt\\\\venv\\\\lib\\\\site-packages\\\\matplotlib\\\\pyplot.py'>"
      ]
     },
     "execution_count": 14,
     "metadata": {},
     "output_type": "execute_result"
    },
    {
     "data": {
      "image/png": "[encoded data removed]",
      "text/plain": [
       "<matplotlib.figure.Figure at 0x1bc87a96c18>"
      ]
     },
     "metadata": {},
     "output_type": "display_data"
    }
   ],
   "source": [
    "plot_roc_curve(target=y_test, proba=pipe_vc_proba_test[:, 1], pos_label=1, figsize=(7, 7))"
   ]
  },
  {
   "cell_type": "code",
   "execution_count": 15,
   "metadata": {},
   "outputs": [
    {
     "data": {
      "text/plain": [
       "<module 'matplotlib.pyplot' from 'D:\\\\moneyveo\\\\mvt\\\\venv\\\\lib\\\\site-packages\\\\matplotlib\\\\pyplot.py'>"
      ]
     },
     "execution_count": 15,
     "metadata": {},
     "output_type": "execute_result"
    },
    {
     "data": {
      "image/png": "[encoded data removed]",
      "text/plain": [
       "<matplotlib.figure.Figure at 0x1bce08e04a8>"
      ]
     },
     "metadata": {},
     "output_type": "display_data"
    }
   ],
   "source": [
    "plot_prc_curve(target=y_test, proba=pipe_vc_proba_test[:, 1], pos_label=1, average='macro', figsize=(7, 7))"
   ]
  },
  {
   "cell_type": "markdown",
   "metadata": {},
   "source": [
    "### Plot calibration curves"
   ]
  },
  {
   "cell_type": "code",
   "execution_count": 16,
   "metadata": {},
   "outputs": [],
   "source": [
    "cc_pipe_vc_true_pos, cc_pipe_vc_pred_pos = calibration_curve(y_test, pipe_vc_proba_test[:, 1], n_bins=10)"
   ]
  },
  {
   "cell_type": "code",
   "execution_count": 19,
   "metadata": {},
   "outputs": [
    {
     "data": {
      "text/plain": [
       "Text(0.5,1,'Calibration curves')"
      ]
     },
     "execution_count": 19,
     "metadata": {},
     "output_type": "execute_result"
    },
    {
     "data": {
      "image/png": "[encoded data removed]",
      "text/plain": [
       "<matplotlib.figure.Figure at 0x1bc87b400f0>"
      ]
     },
     "metadata": {},
     "output_type": "display_data"
    }
   ],
   "source": [
    "fig = plt.figure(figsize=(7, 7))\n",
    "ax = fig.add_subplot(111)\n",
    "# plt.plot(cc_calib_rf_pred_pos, cc_calib_rf_true_pos, '-o', label='RF_calibrated (cv=5)', axes=ax)\n",
    "# plt.plot(cc_pipe_rf_pred_pos, cc_pipe_rf_true_pos, '--o', label='RF (no calibration)', axes=ax)\n",
    "# plt.plot(cc_calib_lr_pred_pos, cc_calib_lr_true_pos, '-o', label='LR_calibrated (cv=5)', axes=ax)\n",
    "# plt.plot(cc_pipe_lr_pred_pos, cc_pipe_lr_true_pos, '--o', label='LR (no calibration)', axes=ax)\n",
    "plt.plot(cc_pipe_vc_pred_pos, cc_pipe_vc_true_pos, '-o', label='VC (LR+RF_calibr+GB_calibr)', axes=ax)\n",
    "plt.plot([0, 1], [0, 1], '--', label='Perfect calibrated')\n",
    "ax.set_xlabel('Mean positive class prob')\n",
    "ax.set_ylabel('Real positive class fraction')\n",
    "ax.legend(loc='best')\n",
    "ax.set_title('Calibration curves')"
   ]
  },
  {
   "cell_type": "markdown",
   "metadata": {},
   "source": [
    "### Learning curve"
   ]
  },
  {
   "cell_type": "code",
   "execution_count": 17,
   "metadata": {},
   "outputs": [
    {
     "name": "stdout",
     "output_type": "stream",
     "text": [
      "Fit Time:  237.0113217830658\n"
     ]
    }
   ],
   "source": [
    "t0 = time()\n",
    "lc_vc_train_sizes, lc_vc_train_scores, lc_vc_test_scores = learning_curve(estimator=pipe_vc, X=X_test, y=y_test,\n",
    "                                                                          cv=inner_cv, n_jobs=max_jobs,\n",
    "                                                                          scoring='roc_auc',\n",
    "                                                                          train_sizes=np.linspace(0.1, 1.0, 5))\n",
    "print('Fit Time: ', (time() - t0))"
   ]
  },
  {
   "cell_type": "code",
   "execution_count": 20,
   "metadata": {},
   "outputs": [
    {
     "data": {
      "text/plain": [
       "<module 'matplotlib.pyplot' from 'D:\\\\moneyveo\\\\mvt\\\\venv\\\\lib\\\\site-packages\\\\matplotlib\\\\pyplot.py'>"
      ]
     },
     "execution_count": 20,
     "metadata": {},
     "output_type": "execute_result"
    },
    {
     "data": {
      "image/png": "[encoded data removed]",
      "text/plain": [
       "<matplotlib.figure.Figure at 0x1bc8985eac8>"
      ]
     },
     "metadata": {},
     "output_type": "display_data"
    }
   ],
   "source": [
    "plot_learning_curve(train_sizes=lc_vc_train_sizes, train_scores=lc_vc_train_scores, test_scores=lc_vc_test_scores,\n",
    "                    title='Learning Curves (roc_auc)', ylim=None, figsize=(10, 7))"
   ]
  },
  {
   "cell_type": "markdown",
   "metadata": {},
   "source": [
    "## FIT TOTAL"
   ]
  },
  {
   "cell_type": "code",
   "execution_count": 27,
   "metadata": {},
   "outputs": [
    {
     "name": "stdout",
     "output_type": "stream",
     "text": [
      "Fit Time:  233.49204468727112\n"
     ]
    }
   ],
   "source": [
    "t0 = time()\n",
    "pipe_vc.fit(X, y)\n",
    "print('Fit Time: ', (time() - t0))"
   ]
  },
  {
   "cell_type": "code",
   "execution_count": 28,
   "metadata": {},
   "outputs": [
    {
     "name": "stdout",
     "output_type": "stream",
     "text": [
      "\npipeline dump file:  src/model_vc_lr_rf_gb_2017_12_15.p\n"
     ]
    }
   ],
   "source": [
    "model_dump_fname = 'src/' + 'model_vc_lr_rf_gb_2017_12_15' + '.p'\n",
    "pickle.dump(pipe_vc, open(model_dump_fname, 'wb'))\n",
    "print('\\npipeline dump file: ', model_dump_fname)"
   ]
  },
  {
   "cell_type": "code",
   "execution_count": 29,
   "metadata": {},
   "outputs": [
    {
     "data": {
      "text/plain": [
       "Pipeline(memory=None,\n     steps=[('pipe_base', FeatureUnion(n_jobs=1,\n       transformer_list=[('initial_selection', Pipeline(memory=None,\n     steps=[('features', FeatureUnion(n_jobs=1,\n       transformer_list=[('continuous', Pipeline(memory=None,\n     steps=[('extract', ColumnExtractor(columns=Index(['par1', 'par10', 'par1...v=8, method='isotonic'))],\n         flatten_transform=None, n_jobs=3, voting='soft', weights=None))])"
      ]
     },
     "execution_count": 29,
     "metadata": {},
     "output_type": "execute_result"
    }
   ],
   "source": [
    "model_loaded = pickle.load(open('src/model_vc_lr_rf_gb_2017_12_15.p', 'rb'))\n",
    "model_loaded"
   ]
  },
  {
   "cell_type": "markdown",
   "metadata": {},
   "source": [
    "##PREDICT TRAIN"
   ]
  },
  {
   "cell_type": "code",
   "execution_count": 31,
   "metadata": {},
   "outputs": [
    {
     "name": "stdout",
     "output_type": "stream",
     "text": [
      "Predict Time:  26.909921169281006\n"
     ]
    }
   ],
   "source": [
    "t0 = time()\n",
    "model_loaded_pred_train = model_loaded.predict(X)\n",
    "model_loaded_proba_train = model_loaded.predict_proba(X)\n",
    "print('Predict Time: ', (time() - t0))"
   ]
  },
  {
   "cell_type": "code",
   "execution_count": 34,
   "metadata": {},
   "outputs": [
    {
     "name": "stdout",
     "output_type": "stream",
     "text": [
      "\n#TRAIN#\nAUC: 0.8515570761285028\nF1: 0.364350856380218\nMCC: 0.31784111899962947\nKS: D=0.0622821111346894, p-value=1.0231692618979243e-111\nLog Loss: 0.3036357802243174\n"
     ]
    }
   ],
   "source": [
    "print('\\n#TRAIN#\\nAUC: {}\\nF1: {}\\nMCC: {}\\nKS: D={}, p-value={}\\nLog Loss: {}'\n",
    "      ''.format(roc_auc_score(y, model_loaded_proba_train[:, 1]),\n",
    "                f1_score(y_true=y, y_pred=model_loaded_pred_train,\n",
    "                         pos_label=1, average='binary'),\n",
    "                matthews_corrcoef(y, model_loaded_pred_train),\n",
    "                ks_2samp(y, model_loaded_pred_train)[0],\n",
    "                ks_2samp(y, model_loaded_pred_train)[1],\n",
    "                log_loss(y, model_loaded_proba_train[:, 1]), ))"
   ]
  },
  {
   "cell_type": "code",
   "execution_count": 37,
   "metadata": {},
   "outputs": [
    {
     "data": {
      "text/html": [
       "<div>\n",
       "<style scoped>\n",
       "    .dataframe tbody tr th:only-of-type {\n",
       "        vertical-align: middle;\n",
       "    }\n",
       "\n",
       "    .dataframe tbody tr th {\n",
       "        vertical-align: top;\n",
       "    }\n",
       "\n",
       "    .dataframe thead th {\n",
       "        text-align: right;\n",
       "    }\n",
       "</style>\n",
       "<table border=\"1\" class=\"dataframe\">\n",
       "  <thead>\n",
       "    <tr style=\"text-align: right;\">\n",
       "      <th></th>\n",
       "      <th>proba_status_1</th>\n",
       "    </tr>\n",
       "    <tr>\n",
       "      <th>Id</th>\n",
       "      <th></th>\n",
       "    </tr>\n",
       "  </thead>\n",
       "  <tbody>\n",
       "    <tr>\n",
       "      <th>1</th>\n",
       "      <td>0.006805</td>\n",
       "    </tr>\n",
       "    <tr>\n",
       "      <th>2</th>\n",
       "      <td>0.011993</td>\n",
       "    </tr>\n",
       "    <tr>\n",
       "      <th>3</th>\n",
       "      <td>0.019117</td>\n",
       "    </tr>\n",
       "  </tbody>\n",
       "</table>\n",
       "</div>"
      ],
      "text/plain": [
       "<div>\n",
       "<style scoped>\n",
       "    .dataframe tbody tr th:only-of-type {\n",
       "        vertical-align: middle;\n",
       "    }\n",
       "\n",
       "    .dataframe tbody tr th {\n",
       "        vertical-align: top;\n",
       "    }\n",
       "\n",
       "    .dataframe thead th {\n",
       "        text-align: right;\n",
       "    }\n",
       "</style>\n",
       "<table border=\"1\" class=\"dataframe\">\n",
       "  <thead>\n",
       "    <tr style=\"text-align: right;\">\n",
       "      <th></th>\n",
       "      <th>proba_status_1</th>\n",
       "    </tr>\n",
       "    <tr>\n",
       "      <th>Id</th>\n",
       "      <th></th>\n",
       "    </tr>\n",
       "  </thead>\n",
       "  <tbody>\n",
       "    <tr>\n",
       "      <th>1</th>\n",
       "      <td>0.006805</td>\n",
       "    </tr>\n",
       "    <tr>\n",
       "      <th>2</th>\n",
       "      <td>0.011993</td>\n",
       "    </tr>\n",
       "    <tr>\n",
       "      <th>3</th>\n",
       "      <td>0.019117</td>\n",
       "    </tr>\n",
       "  </tbody>\n",
       "</table>\n",
       "</div>"
      ]
     },
     "execution_count": 37,
     "metadata": {},
     "output_type": "execute_result"
    }
   ],
   "source": [
    "df_train = pd.DataFrame(model_loaded_proba_train[:, 1], columns=['proba_status_1'], index=X.index)\n",
    "df_train.to_csv('src/Train_Sample_Res_vc_lrg_12_15.csv', sep=';', index=True, index_label='Id')\n",
    "df_train.head(3)"
   ]
  },
  {
   "cell_type": "markdown",
   "metadata": {},
   "source": [
    "## PREDICT TEST"
   ]
  },
  {
   "cell_type": "code",
   "execution_count": 47,
   "metadata": {},
   "outputs": [
    {
     "name": "stdout",
     "output_type": "stream",
     "text": [
      "data.shape: (41907, 221)\n"
     ]
    }
   ],
   "source": [
    "df_data = pd.read_csv('src/Test_Sample.csv', sep=';', index_col=0)\n",
    "print('data.shape: {0}'.format(df_data.shape))"
   ]
  },
  {
   "cell_type": "code",
   "execution_count": 48,
   "metadata": {},
   "outputs": [
    {
     "name": "stdout",
     "output_type": "stream",
     "text": [
      "Predict Time:  8.300828218460083\n"
     ]
    }
   ],
   "source": [
    "t0 = time()\n",
    "model_loaded_proba_test = model_loaded.predict_proba(df_data)\n",
    "print('Predict Time: ', (time() - t0))"
   ]
  },
  {
   "cell_type": "code",
   "execution_count": 49,
   "metadata": {},
   "outputs": [
    {
     "data": {
      "text/html": [
       "<div>\n",
       "<style scoped>\n",
       "    .dataframe tbody tr th:only-of-type {\n",
       "        vertical-align: middle;\n",
       "    }\n",
       "\n",
       "    .dataframe tbody tr th {\n",
       "        vertical-align: top;\n",
       "    }\n",
       "\n",
       "    .dataframe thead th {\n",
       "        text-align: right;\n",
       "    }\n",
       "</style>\n",
       "<table border=\"1\" class=\"dataframe\">\n",
       "  <thead>\n",
       "    <tr style=\"text-align: right;\">\n",
       "      <th></th>\n",
       "      <th>proba_status_1</th>\n",
       "    </tr>\n",
       "    <tr>\n",
       "      <th>Id</th>\n",
       "      <th></th>\n",
       "    </tr>\n",
       "  </thead>\n",
       "  <tbody>\n",
       "    <tr>\n",
       "      <th>1</th>\n",
       "      <td>0.203708</td>\n",
       "    </tr>\n",
       "    <tr>\n",
       "      <th>2</th>\n",
       "      <td>0.050274</td>\n",
       "    </tr>\n",
       "    <tr>\n",
       "      <th>3</th>\n",
       "      <td>0.226294</td>\n",
       "    </tr>\n",
       "  </tbody>\n",
       "</table>\n",
       "</div>"
      ],
      "text/plain": [
       "<div>\n",
       "<style scoped>\n",
       "    .dataframe tbody tr th:only-of-type {\n",
       "        vertical-align: middle;\n",
       "    }\n",
       "\n",
       "    .dataframe tbody tr th {\n",
       "        vertical-align: top;\n",
       "    }\n",
       "\n",
       "    .dataframe thead th {\n",
       "        text-align: right;\n",
       "    }\n",
       "</style>\n",
       "<table border=\"1\" class=\"dataframe\">\n",
       "  <thead>\n",
       "    <tr style=\"text-align: right;\">\n",
       "      <th></th>\n",
       "      <th>proba_status_1</th>\n",
       "    </tr>\n",
       "    <tr>\n",
       "      <th>Id</th>\n",
       "      <th></th>\n",
       "    </tr>\n",
       "  </thead>\n",
       "  <tbody>\n",
       "    <tr>\n",
       "      <th>1</th>\n",
       "      <td>0.203708</td>\n",
       "    </tr>\n",
       "    <tr>\n",
       "      <th>2</th>\n",
       "      <td>0.050274</td>\n",
       "    </tr>\n",
       "    <tr>\n",
       "      <th>3</th>\n",
       "      <td>0.226294</td>\n",
       "    </tr>\n",
       "  </tbody>\n",
       "</table>\n",
       "</div>"
      ]
     },
     "execution_count": 49,
     "metadata": {},
     "output_type": "execute_result"
    }
   ],
   "source": [
    "df_test = pd.DataFrame(model_loaded_proba_test[:, 1], columns=['proba_status_1'], index=df_data.index)\n",
    "df_test.to_csv('src/Test_Sample_Res_vc_lrg_12_15.csv', sep=';', index=True, index_label='Id')\n",
    "df_test.head(3)"
   ]
  },
  {
   "cell_type": "code",
   "execution_count": null,
   "metadata": {},
   "outputs": [],
   "source": []
  }
 ],
 "metadata": {
  "kernelspec": {
   "display_name": "Python 2",
   "language": "python",
   "name": "python2"
  },
  "language_info": {
   "codemirror_mode": {
    "name": "ipython",
    "version": 2
   },
   "file_extension": ".py",
   "mimetype": "text/x-python",
   "name": "python",
   "nbconvert_exporter": "python",
   "pygments_lexer": "ipython2",
   "version": "2.7.6"
  }
 },
 "nbformat": 4,
 "nbformat_minor": 0
}
